{
 "cells": [
  {
   "cell_type": "markdown",
   "metadata": {},
   "source": [
    "# Exploratory Data Analysis"
   ]
  },
  {
   "cell_type": "markdown",
   "metadata": {},
   "source": [
    "## Problem Definition"
   ]
  },
  {
   "cell_type": "code",
   "execution_count": 43,
   "metadata": {},
   "outputs": [],
   "source": [
    "# With college football games take place across the country, people often take to social media to express their opinions on the universities they are fans of. This analysis will take a deeper dive into the twitter usage of fans of schools in the \"Power 5\" College Football Conferences and the fans of the respective schools, including, the SEC, Big12, Big10, ACC, and Pac12. This analysis will specifically look into which fans tweet the most about the different schools from the \"Power 5\" Conferences and the nature of their commentary (postive vs. negative, etc.)\n",
    "\n",
    "# With the return of Big10 to the weekly college football slate, basically all major college football teams were in action this past week (10/22-10/29) - because no one really misses the Pac12. "
   ]
  },
  {
   "cell_type": "code",
   "execution_count": 44,
   "metadata": {},
   "outputs": [],
   "source": [
    "# Sentiment analysis of last X tweets broken down by \"Power 5\" college football teams and conference"
   ]
  },
  {
   "source": [
    "# import necessary packages\n",
    "\n",
    "import pandas as pd \n",
    "import numpy as np \n",
    "import time\n",
    "import matplotlib.pyplot as plt \n",
    "import seaborn as sns\n",
    "%matplotlib inline"
   ],
   "cell_type": "code",
   "metadata": {},
   "execution_count": 45,
   "outputs": []
  },
  {
   "cell_type": "code",
   "execution_count": null,
   "metadata": {},
   "outputs": [],
   "source": [
    "import streamlit as st\n",
    "st.title(‘College Football Twitter’)\n",
    "st.write(‘Pick an Team or Conference’)\n",
    "keys = [‘Big12’,\n",
    "    ’Big10’,\n",
    "    ‘SEC’,\n",
    "    ‘ACC’,\n",
    "    ‘Pac12’,\n",
    "    ‘Oklahoma’,\n",
    "    ‘Oklahoma State’,\n",
    "    ‘Texas’,\n",
    "    ‘Texas Tech’,\n",
    "    ‘Baylor’,\n",
    "    ‘Iowa State’,\n",
    "    ‘Kansas’,\n",
    "    ‘Kansas State’,\n",
    "    ‘West Virginia’,\n",
    "    ‘TCU’,\n",
    "    ‘Ohio State’,\n",
    "    ‘Penn State’,\n",
    "    ‘Michigan’,\n",
    "    ‘Michigan State’,\n",
    "    ‘Nebraska’,\n",
    "    ‘Iowa’,\n",
    "    ‘Wisconsin’,\n",
    "    ‘Illinois’,\n",
    "    ‘Indiana’,\n",
    "    ‘Northwestern’,\n",
    "    ‘Purdue’,\n",
    "    ‘Rutgers’,\n",
    "    ‘Maryland’,\n",
    "    ‘Minnesota’,\n",
    "    ‘Alabama’,\n",
    "    ‘Texas A&M’,\n",
    "    ‘Auburn’,\n",
    "    ‘LSU’,\n",
    "    ‘Arkansas’,\n",
    "    ‘Mississippi’,\n",
    "    ‘Mississippi State’,\n",
    "    ‘Georgia’,\n",
    "    ‘Florida’,\n",
    "    ‘Missouri’,\n",
    "    ‘South Carolina’,\n",
    "    ‘Tennessee’,\n",
    "    ‘Kentucky’,\n",
    "    ‘Vanderbuilt’,\n",
    "    ‘Notre Dame’,\n",
    "    ‘Clemson’,\n",
    "    ‘Miami’,\n",
    "    ‘North Carolina’,\n",
    "    ‘North Carolina State’,\n",
    "    ‘Virginia Tech’,\n",
    "    ‘Wake Forest’,\n",
    "    ‘Boston College’,\n",
    "    ‘Pittsburgh’,\n",
    "    ‘Georgia Tech’,\n",
    "    ‘Virginia’,\n",
    "    ‘Florida State’,\n",
    "    ‘Louisville’,\n",
    "    ‘Syracuse’,\n",
    "    ‘Arizona’,\n",
    "    ‘Arizona State’,\n",
    "    ‘Colorado’,\n",
    "    ‘Utah’,\n",
    "    ‘USC’,\n",
    "    ‘UCLA’,\n",
    "    ‘California’,\n",
    "    ‘Oregon’,\n",
    "    ‘Oregon State’,\n",
    "    ‘Washington’,\n",
    "    ‘Washington State’,\n",
    "    ‘Standford’]\n",
    "dist_key = st.selectbox(‘Which college football team or conference to analyze...’,keys)\n",
    "st.write(‘You have chosen {}’.format(dist_key))"
   ]
  },
  {
   "cell_type": "markdown",
   "metadata": {},
   "source": [
    "## Discovery"
   ]
  },
  {
   "cell_type": "markdown",
   "metadata": {},
   "source": [
    "### Data Collection \n",
    "#### Webscraping Twitter "
   ]
  },
  {
   "cell_type": "code",
   "execution_count": 57,
   "metadata": {},
   "outputs": [],
   "source": [
    "import tweepy\n",
    "from tweepy import OAuthHandler"
   ]
  },
  {
   "cell_type": "code",
   "execution_count": 58,
   "metadata": {},
   "outputs": [],
   "source": [
    "# Authorize Twitter API credentials\n",
    "consumer_key = \"Dz3jCSrcwHVeXUs4XZmHh4DCq\"\n",
    "consumer_secret = \"u3mQXCEoeVAkPEdgbgm2vOYHSQ5XE06SOs9pRgoAgELHuUPVm5\"\n",
    "access_token = \"334717127-4E6jTE3hXB9LsiPxiQs1weCY87gVknixyh8saGOL\"\n",
    "access_token_secret = \"V9573dxXw7eODm7d5c0wr85eGgLJulG9ThUwgpFXVFGDg\"\n",
    "\n",
    "auth = tweepy.OAuthHandler(consumer_key, consumer_secret)\n",
    "auth.set_access_token(access_token, access_token_secret)\n",
    "\n",
    "api = tweepy.API(auth,wait_on_rate_limit=True)"
   ]
  },
  {
   "cell_type": "code",
   "execution_count": 59,
   "metadata": {},
   "outputs": [],
   "source": [
    "text_query = 'Iowa State football'\n",
    "count = 150\n",
    "try:\n",
    " # Creation of query method using parameters\n",
    " tweets = tweepy.Cursor(api.search,q=text_query).items(count)\n",
    " \n",
    " # Pulling information from tweets iterable object\n",
    " tweets_list = [[tweet.created_at, tweet.id, tweet.text] for tweet in tweets]\n",
    " \n",
    " # Creation of dataframe from tweets list\n",
    " # Add or remove columns as you remove tweet information\n",
    " iowa_state_df = pd.DataFrame(tweets_list)\n",
    " \n",
    "except BaseException as e:\n",
    "    print('failed on_status,',str(e))\n",
    "    time.sleep(3)"
   ]
  },
  {
   "cell_type": "code",
   "execution_count": 60,
   "metadata": {},
   "outputs": [],
   "source": [
    "tweets = tweepy.Cursor(api.search, q=text_query).items(count)\n",
    "# Pulling information from tweets iterable \n",
    "tweets_list = [[tweet.created_at, tweet.id, tweet.text, tweet.user, tweet.favorite_count] for tweet in tweets]\n",
    "# Creation of dataframe from tweets list\n",
    "iowa_state_df = pd.DataFrame(tweets_list)"
   ]
  },
  {
   "cell_type": "code",
   "execution_count": 66,
   "metadata": {},
   "outputs": [],
   "source": [
    "# Minnesota Football trial\n",
    "\n",
    "minnesota_query = 'Minnesota Gophers football'\n",
    "count = 150\n",
    "try:\n",
    " # Creation of query method using parameters\n",
    " tweets = tweepy.Cursor(api.search,q=minnesota_query).items(count)\n",
    " \n",
    " # Pulling information from tweets iterable object\n",
    " tweets_list = [[tweet.created_at, tweet.id, tweet.text] for tweet in tweets]\n",
    " \n",
    " # Creation of dataframe from tweets list\n",
    " # Add or remove columns as you remove tweet information\n",
    " minnesota_df = pd.DataFrame(tweets_list)\n",
    " \n",
    "except BaseException as e:\n",
    "    print('failed on_status,',str(e))\n",
    "    time.sleep(3)"
   ]
  },
  {
   "cell_type": "code",
   "execution_count": 67,
   "metadata": {},
   "outputs": [],
   "source": [
    "tweets = tweepy.Cursor(api.search, q=minnesota_query).items(count)\n",
    "# Pulling information from tweets iterable \n",
    "tweets_list = [[tweet.created_at, tweet.id, tweet.text, tweet.user, tweet.favorite_count] for tweet in tweets]\n",
    "# Creation of dataframe from tweets list\n",
    "minnesota_df = pd.DataFrame(tweets_list)"
   ]
  },
  {
   "cell_type": "code",
   "execution_count": 68,
   "metadata": {},
   "outputs": [
    {
     "output_type": "execute_result",
     "data": {
      "text/plain": [
       "                    0                    1  \\\n",
       "0 2020-11-06 20:10:23  1324806356969361408   \n",
       "1 2020-11-06 19:50:08  1324801257828134914   \n",
       "2 2020-11-06 19:13:24  1324792015075368962   \n",
       "3 2020-11-06 18:23:50  1324779541336829955   \n",
       "4 2020-11-06 18:16:05  1324777589337214976   \n",
       "5 2020-11-06 17:55:43  1324772465537617923   \n",
       "6 2020-11-06 17:32:24  1324766597450469377   \n",
       "7 2020-11-06 17:31:32  1324766381070376961   \n",
       "8 2020-11-06 17:28:45  1324765677358645249   \n",
       "9 2020-11-06 16:14:20  1324746950944710659   \n",
       "\n",
       "                                                   2  \\\n",
       "0  RT @RyanBurnsMN: GI Game Preview: #Gophers vs....   \n",
       "1  The World-Herald's Sam McKewon makes his predi...   \n",
       "2  RT @JWerner247: Preview &amp; Picks: #illini v...   \n",
       "3  Gophers preview: Minnesota at Illinois https:/...   \n",
       "4  Gophers preview: Minnesota at Illinois https:/...   \n",
       "5  Gophers preview: Minnesota at Illinois https:/...   \n",
       "6  Gophers preview: Minnesota at Illinois https:/...   \n",
       "7  Gophers preview: Minnesota at Illinois https:/...   \n",
       "8  RT @GopherFootball: Time to go Under The Helme...   \n",
       "9  RT @GopherRadio: GGR 11.5.20. presented by the...   \n",
       "\n",
       "                                                   3  4  \n",
       "0  User(_api=<tweepy.api.API object at 0x1529b595...  0  \n",
       "1  User(_api=<tweepy.api.API object at 0x1529b595...  1  \n",
       "2  User(_api=<tweepy.api.API object at 0x1529b595...  0  \n",
       "3  User(_api=<tweepy.api.API object at 0x1529b595...  0  \n",
       "4  User(_api=<tweepy.api.API object at 0x1529b595...  0  \n",
       "5  User(_api=<tweepy.api.API object at 0x1529b595...  0  \n",
       "6  User(_api=<tweepy.api.API object at 0x1529b595...  0  \n",
       "7  User(_api=<tweepy.api.API object at 0x1529b595...  0  \n",
       "8  User(_api=<tweepy.api.API object at 0x1529b595...  0  \n",
       "9  User(_api=<tweepy.api.API object at 0x1529b595...  0  "
      ],
      "text/html": "<div>\n<style scoped>\n    .dataframe tbody tr th:only-of-type {\n        vertical-align: middle;\n    }\n\n    .dataframe tbody tr th {\n        vertical-align: top;\n    }\n\n    .dataframe thead th {\n        text-align: right;\n    }\n</style>\n<table border=\"1\" class=\"dataframe\">\n  <thead>\n    <tr style=\"text-align: right;\">\n      <th></th>\n      <th>0</th>\n      <th>1</th>\n      <th>2</th>\n      <th>3</th>\n      <th>4</th>\n    </tr>\n  </thead>\n  <tbody>\n    <tr>\n      <th>0</th>\n      <td>2020-11-06 20:10:23</td>\n      <td>1324806356969361408</td>\n      <td>RT @RyanBurnsMN: GI Game Preview: #Gophers vs....</td>\n      <td>User(_api=&lt;tweepy.api.API object at 0x1529b595...</td>\n      <td>0</td>\n    </tr>\n    <tr>\n      <th>1</th>\n      <td>2020-11-06 19:50:08</td>\n      <td>1324801257828134914</td>\n      <td>The World-Herald's Sam McKewon makes his predi...</td>\n      <td>User(_api=&lt;tweepy.api.API object at 0x1529b595...</td>\n      <td>1</td>\n    </tr>\n    <tr>\n      <th>2</th>\n      <td>2020-11-06 19:13:24</td>\n      <td>1324792015075368962</td>\n      <td>RT @JWerner247: Preview &amp;amp; Picks: #illini v...</td>\n      <td>User(_api=&lt;tweepy.api.API object at 0x1529b595...</td>\n      <td>0</td>\n    </tr>\n    <tr>\n      <th>3</th>\n      <td>2020-11-06 18:23:50</td>\n      <td>1324779541336829955</td>\n      <td>Gophers preview: Minnesota at Illinois https:/...</td>\n      <td>User(_api=&lt;tweepy.api.API object at 0x1529b595...</td>\n      <td>0</td>\n    </tr>\n    <tr>\n      <th>4</th>\n      <td>2020-11-06 18:16:05</td>\n      <td>1324777589337214976</td>\n      <td>Gophers preview: Minnesota at Illinois https:/...</td>\n      <td>User(_api=&lt;tweepy.api.API object at 0x1529b595...</td>\n      <td>0</td>\n    </tr>\n    <tr>\n      <th>5</th>\n      <td>2020-11-06 17:55:43</td>\n      <td>1324772465537617923</td>\n      <td>Gophers preview: Minnesota at Illinois https:/...</td>\n      <td>User(_api=&lt;tweepy.api.API object at 0x1529b595...</td>\n      <td>0</td>\n    </tr>\n    <tr>\n      <th>6</th>\n      <td>2020-11-06 17:32:24</td>\n      <td>1324766597450469377</td>\n      <td>Gophers preview: Minnesota at Illinois https:/...</td>\n      <td>User(_api=&lt;tweepy.api.API object at 0x1529b595...</td>\n      <td>0</td>\n    </tr>\n    <tr>\n      <th>7</th>\n      <td>2020-11-06 17:31:32</td>\n      <td>1324766381070376961</td>\n      <td>Gophers preview: Minnesota at Illinois https:/...</td>\n      <td>User(_api=&lt;tweepy.api.API object at 0x1529b595...</td>\n      <td>0</td>\n    </tr>\n    <tr>\n      <th>8</th>\n      <td>2020-11-06 17:28:45</td>\n      <td>1324765677358645249</td>\n      <td>RT @GopherFootball: Time to go Under The Helme...</td>\n      <td>User(_api=&lt;tweepy.api.API object at 0x1529b595...</td>\n      <td>0</td>\n    </tr>\n    <tr>\n      <th>9</th>\n      <td>2020-11-06 16:14:20</td>\n      <td>1324746950944710659</td>\n      <td>RT @GopherRadio: GGR 11.5.20. presented by the...</td>\n      <td>User(_api=&lt;tweepy.api.API object at 0x1529b595...</td>\n      <td>0</td>\n    </tr>\n  </tbody>\n</table>\n</div>"
     },
     "metadata": {},
     "execution_count": 68
    }
   ],
   "source": [
    "minnesota_df.head(10)"
   ]
  },
  {
   "cell_type": "markdown",
   "metadata": {},
   "source": [
    "### Load the Data"
   ]
  },
  {
   "cell_type": "markdown",
   "metadata": {},
   "source": [
    "### Examine the Data"
   ]
  },
  {
   "cell_type": "code",
   "execution_count": 61,
   "metadata": {},
   "outputs": [
    {
     "output_type": "stream",
     "name": "stdout",
     "text": [
      "These are the most recent tweets about Iowa State football...\n"
     ]
    }
   ],
   "source": [
    "print('These are the most recent tweets about Iowa State football...')"
   ]
  },
  {
   "cell_type": "code",
   "execution_count": 62,
   "metadata": {},
   "outputs": [
    {
     "output_type": "execute_result",
     "data": {
      "text/plain": [
       "                     0                    1  \\\n",
       "0  2020-11-06 21:53:21  1324832267991093249   \n",
       "1  2020-11-06 21:51:29  1324831799458095111   \n",
       "2  2020-11-06 21:35:58  1324827894963707905   \n",
       "3  2020-11-06 21:29:55  1324826372485881856   \n",
       "4  2020-11-06 21:24:19  1324824959319945216   \n",
       "5  2020-11-06 21:23:34  1324824772954509312   \n",
       "6  2020-11-06 21:21:07  1324824155435474951   \n",
       "7  2020-11-06 21:21:04  1324824142986829830   \n",
       "8  2020-11-06 21:18:05  1324823394123206656   \n",
       "9  2020-11-06 21:15:41  1324822790399250437   \n",
       "10 2020-11-06 21:12:13  1324821916478300160   \n",
       "11 2020-11-06 21:08:43  1324821037448679426   \n",
       "12 2020-11-06 20:57:00  1324818087745445889   \n",
       "13 2020-11-06 20:55:54  1324817808434384898   \n",
       "14 2020-11-06 20:46:41  1324815492469596160   \n",
       "15 2020-11-06 20:42:03  1324814325903745024   \n",
       "16 2020-11-06 20:40:18  1324813883924774912   \n",
       "17 2020-11-06 20:31:43  1324811724680290305   \n",
       "18 2020-11-06 20:31:16  1324811612755267584   \n",
       "19 2020-11-06 20:29:57  1324811278083391491   \n",
       "\n",
       "                                                    2  \\\n",
       "0   RT @sportsmemo: 🏈The Iowa Hawkeyes are a -6.5 ...   \n",
       "1   Well tonight is a huge night for Iowa high sch...   \n",
       "2   RT @WDBMSports: Football Broadcast Info!\\n\\n🏈:...   \n",
       "3   RT @WDBMSports: Football Broadcast Info!\\n\\n🏈:...   \n",
       "4   RT @MSwain247: The 2021 @AllAmericaGame game w...   \n",
       "5   The 2021 @AllAmericaGame game was canceled ear...   \n",
       "6   RT @WDBMSports: Football Broadcast Info!\\n\\n🏈:...   \n",
       "7      MICHIGAN STATE AT IOWA https://t.co/PK5FqptD1g   \n",
       "8      MICHIGAN STATE AT IOWA https://t.co/ShM2oiAI77   \n",
       "9   Football Broadcast Info!\\n\\n🏈: Michigan State ...   \n",
       "10  Outlook on Iowa state football https://t.co/E6...   \n",
       "11  RT @DerekHoodjer: CC: \\n\\n#CYCLONEVI21ON\\n\\n#L...   \n",
       "12  Baylor Bears vs. Iowa State Cyclones – 11/7/20...   \n",
       "13  Baylor vs. Iowa State betting odds and pick: h...   \n",
       "14  RT @sportsmemo: 🏈The Iowa Hawkeyes are a -6.5 ...   \n",
       "15  NEW! Iowa and Michigan State have one of the t...   \n",
       "16  RT @Corey_RholdonTV: Iowa vs. Michigan State P...   \n",
       "17  RT @GazetteOnIowa: Rocky Lombardi grew up in I...   \n",
       "18  RT @GazetteOnIowa: Fun Facts: Michigan State-I...   \n",
       "19  RT @hawkcentral: The Hawkeyes have run the bal...   \n",
       "\n",
       "                                                    3  4  \n",
       "0   User(_api=<tweepy.api.API object at 0x1529b595...  0  \n",
       "1   User(_api=<tweepy.api.API object at 0x1529b595...  1  \n",
       "2   User(_api=<tweepy.api.API object at 0x1529b595...  0  \n",
       "3   User(_api=<tweepy.api.API object at 0x1529b595...  0  \n",
       "4   User(_api=<tweepy.api.API object at 0x1529b595...  0  \n",
       "5   User(_api=<tweepy.api.API object at 0x1529b595...  0  \n",
       "6   User(_api=<tweepy.api.API object at 0x1529b595...  0  \n",
       "7   User(_api=<tweepy.api.API object at 0x1529b595...  0  \n",
       "8   User(_api=<tweepy.api.API object at 0x1529b595...  0  \n",
       "9   User(_api=<tweepy.api.API object at 0x1529b595...  3  \n",
       "10  User(_api=<tweepy.api.API object at 0x1529b595...  1  \n",
       "11  User(_api=<tweepy.api.API object at 0x1529b595...  0  \n",
       "12  User(_api=<tweepy.api.API object at 0x1529b595...  0  \n",
       "13  User(_api=<tweepy.api.API object at 0x1529b595...  0  \n",
       "14  User(_api=<tweepy.api.API object at 0x1529b595...  0  \n",
       "15  User(_api=<tweepy.api.API object at 0x1529b595...  0  \n",
       "16  User(_api=<tweepy.api.API object at 0x1529b595...  0  \n",
       "17  User(_api=<tweepy.api.API object at 0x1529b595...  0  \n",
       "18  User(_api=<tweepy.api.API object at 0x1529b595...  0  \n",
       "19  User(_api=<tweepy.api.API object at 0x1529b595...  0  "
      ],
      "text/html": "<div>\n<style scoped>\n    .dataframe tbody tr th:only-of-type {\n        vertical-align: middle;\n    }\n\n    .dataframe tbody tr th {\n        vertical-align: top;\n    }\n\n    .dataframe thead th {\n        text-align: right;\n    }\n</style>\n<table border=\"1\" class=\"dataframe\">\n  <thead>\n    <tr style=\"text-align: right;\">\n      <th></th>\n      <th>0</th>\n      <th>1</th>\n      <th>2</th>\n      <th>3</th>\n      <th>4</th>\n    </tr>\n  </thead>\n  <tbody>\n    <tr>\n      <th>0</th>\n      <td>2020-11-06 21:53:21</td>\n      <td>1324832267991093249</td>\n      <td>RT @sportsmemo: 🏈The Iowa Hawkeyes are a -6.5 ...</td>\n      <td>User(_api=&lt;tweepy.api.API object at 0x1529b595...</td>\n      <td>0</td>\n    </tr>\n    <tr>\n      <th>1</th>\n      <td>2020-11-06 21:51:29</td>\n      <td>1324831799458095111</td>\n      <td>Well tonight is a huge night for Iowa high sch...</td>\n      <td>User(_api=&lt;tweepy.api.API object at 0x1529b595...</td>\n      <td>1</td>\n    </tr>\n    <tr>\n      <th>2</th>\n      <td>2020-11-06 21:35:58</td>\n      <td>1324827894963707905</td>\n      <td>RT @WDBMSports: Football Broadcast Info!\\n\\n🏈:...</td>\n      <td>User(_api=&lt;tweepy.api.API object at 0x1529b595...</td>\n      <td>0</td>\n    </tr>\n    <tr>\n      <th>3</th>\n      <td>2020-11-06 21:29:55</td>\n      <td>1324826372485881856</td>\n      <td>RT @WDBMSports: Football Broadcast Info!\\n\\n🏈:...</td>\n      <td>User(_api=&lt;tweepy.api.API object at 0x1529b595...</td>\n      <td>0</td>\n    </tr>\n    <tr>\n      <th>4</th>\n      <td>2020-11-06 21:24:19</td>\n      <td>1324824959319945216</td>\n      <td>RT @MSwain247: The 2021 @AllAmericaGame game w...</td>\n      <td>User(_api=&lt;tweepy.api.API object at 0x1529b595...</td>\n      <td>0</td>\n    </tr>\n    <tr>\n      <th>5</th>\n      <td>2020-11-06 21:23:34</td>\n      <td>1324824772954509312</td>\n      <td>The 2021 @AllAmericaGame game was canceled ear...</td>\n      <td>User(_api=&lt;tweepy.api.API object at 0x1529b595...</td>\n      <td>0</td>\n    </tr>\n    <tr>\n      <th>6</th>\n      <td>2020-11-06 21:21:07</td>\n      <td>1324824155435474951</td>\n      <td>RT @WDBMSports: Football Broadcast Info!\\n\\n🏈:...</td>\n      <td>User(_api=&lt;tweepy.api.API object at 0x1529b595...</td>\n      <td>0</td>\n    </tr>\n    <tr>\n      <th>7</th>\n      <td>2020-11-06 21:21:04</td>\n      <td>1324824142986829830</td>\n      <td>MICHIGAN STATE AT IOWA https://t.co/PK5FqptD1g</td>\n      <td>User(_api=&lt;tweepy.api.API object at 0x1529b595...</td>\n      <td>0</td>\n    </tr>\n    <tr>\n      <th>8</th>\n      <td>2020-11-06 21:18:05</td>\n      <td>1324823394123206656</td>\n      <td>MICHIGAN STATE AT IOWA https://t.co/ShM2oiAI77</td>\n      <td>User(_api=&lt;tweepy.api.API object at 0x1529b595...</td>\n      <td>0</td>\n    </tr>\n    <tr>\n      <th>9</th>\n      <td>2020-11-06 21:15:41</td>\n      <td>1324822790399250437</td>\n      <td>Football Broadcast Info!\\n\\n🏈: Michigan State ...</td>\n      <td>User(_api=&lt;tweepy.api.API object at 0x1529b595...</td>\n      <td>3</td>\n    </tr>\n    <tr>\n      <th>10</th>\n      <td>2020-11-06 21:12:13</td>\n      <td>1324821916478300160</td>\n      <td>Outlook on Iowa state football https://t.co/E6...</td>\n      <td>User(_api=&lt;tweepy.api.API object at 0x1529b595...</td>\n      <td>1</td>\n    </tr>\n    <tr>\n      <th>11</th>\n      <td>2020-11-06 21:08:43</td>\n      <td>1324821037448679426</td>\n      <td>RT @DerekHoodjer: CC: \\n\\n#CYCLONEVI21ON\\n\\n#L...</td>\n      <td>User(_api=&lt;tweepy.api.API object at 0x1529b595...</td>\n      <td>0</td>\n    </tr>\n    <tr>\n      <th>12</th>\n      <td>2020-11-06 20:57:00</td>\n      <td>1324818087745445889</td>\n      <td>Baylor Bears vs. Iowa State Cyclones – 11/7/20...</td>\n      <td>User(_api=&lt;tweepy.api.API object at 0x1529b595...</td>\n      <td>0</td>\n    </tr>\n    <tr>\n      <th>13</th>\n      <td>2020-11-06 20:55:54</td>\n      <td>1324817808434384898</td>\n      <td>Baylor vs. Iowa State betting odds and pick: h...</td>\n      <td>User(_api=&lt;tweepy.api.API object at 0x1529b595...</td>\n      <td>0</td>\n    </tr>\n    <tr>\n      <th>14</th>\n      <td>2020-11-06 20:46:41</td>\n      <td>1324815492469596160</td>\n      <td>RT @sportsmemo: 🏈The Iowa Hawkeyes are a -6.5 ...</td>\n      <td>User(_api=&lt;tweepy.api.API object at 0x1529b595...</td>\n      <td>0</td>\n    </tr>\n    <tr>\n      <th>15</th>\n      <td>2020-11-06 20:42:03</td>\n      <td>1324814325903745024</td>\n      <td>NEW! Iowa and Michigan State have one of the t...</td>\n      <td>User(_api=&lt;tweepy.api.API object at 0x1529b595...</td>\n      <td>0</td>\n    </tr>\n    <tr>\n      <th>16</th>\n      <td>2020-11-06 20:40:18</td>\n      <td>1324813883924774912</td>\n      <td>RT @Corey_RholdonTV: Iowa vs. Michigan State P...</td>\n      <td>User(_api=&lt;tweepy.api.API object at 0x1529b595...</td>\n      <td>0</td>\n    </tr>\n    <tr>\n      <th>17</th>\n      <td>2020-11-06 20:31:43</td>\n      <td>1324811724680290305</td>\n      <td>RT @GazetteOnIowa: Rocky Lombardi grew up in I...</td>\n      <td>User(_api=&lt;tweepy.api.API object at 0x1529b595...</td>\n      <td>0</td>\n    </tr>\n    <tr>\n      <th>18</th>\n      <td>2020-11-06 20:31:16</td>\n      <td>1324811612755267584</td>\n      <td>RT @GazetteOnIowa: Fun Facts: Michigan State-I...</td>\n      <td>User(_api=&lt;tweepy.api.API object at 0x1529b595...</td>\n      <td>0</td>\n    </tr>\n    <tr>\n      <th>19</th>\n      <td>2020-11-06 20:29:57</td>\n      <td>1324811278083391491</td>\n      <td>RT @hawkcentral: The Hawkeyes have run the bal...</td>\n      <td>User(_api=&lt;tweepy.api.API object at 0x1529b595...</td>\n      <td>0</td>\n    </tr>\n  </tbody>\n</table>\n</div>"
     },
     "metadata": {},
     "execution_count": 62
    }
   ],
   "source": [
    "iowa_state_df.head(20)"
   ]
  },
  {
   "cell_type": "code",
   "execution_count": 63,
   "metadata": {},
   "outputs": [
    {
     "output_type": "stream",
     "name": "stdout",
     "text": [
      "<class 'pandas.core.frame.DataFrame'>\nRangeIndex: 150 entries, 0 to 149\nData columns (total 5 columns):\n #   Column  Non-Null Count  Dtype         \n---  ------  --------------  -----         \n 0   0       150 non-null    datetime64[ns]\n 1   1       150 non-null    int64         \n 2   2       150 non-null    object        \n 3   3       150 non-null    object        \n 4   4       150 non-null    int64         \ndtypes: datetime64[ns](1), int64(2), object(2)\nmemory usage: 6.0+ KB\n"
     ]
    }
   ],
   "source": [
    "iowa_state_df.info()"
   ]
  },
  {
   "cell_type": "markdown",
   "metadata": {},
   "source": [
    "### EDA"
   ]
  },
  {
   "cell_type": "markdown",
   "metadata": {},
   "source": [
    "### Data visualization"
   ]
  },
  {
   "cell_type": "markdown",
   "metadata": {},
   "source": [
    "## Develop"
   ]
  },
  {
   "cell_type": "markdown",
   "metadata": {},
   "source": [
    "### Feature Engineering"
   ]
  },
  {
   "cell_type": "markdown",
   "metadata": {},
   "source": [
    "### Create & Test Model(s) - ?"
   ]
  },
  {
   "cell_type": "markdown",
   "metadata": {},
   "source": [
    "## Deploy"
   ]
  },
  {
   "cell_type": "code",
   "execution_count": 65,
   "metadata": {},
   "outputs": [
    {
     "output_type": "error",
     "ename": "SyntaxError",
     "evalue": "invalid character in identifier (<ipython-input-65-564c4c07cea7>, line 2)",
     "traceback": [
      "\u001b[0;36m  File \u001b[0;32m\"<ipython-input-65-564c4c07cea7>\"\u001b[0;36m, line \u001b[0;32m2\u001b[0m\n\u001b[0;31m    st.title(‘College Football Twitter’)\u001b[0m\n\u001b[0m                    ^\u001b[0m\n\u001b[0;31mSyntaxError\u001b[0m\u001b[0;31m:\u001b[0m invalid character in identifier\n"
     ]
    }
   ],
   "source": [
    "import streamlit as st\n",
    "st.title(‘College Football Twitter’)\n",
    "st.write(‘Pick an Team or Conference’)\n",
    "keys = [‘Big12’,\n",
    "    ’Big10’,\n",
    "    ‘SEC’,\n",
    "    ‘ACC’,\n",
    "    ‘Pac12’,\n",
    "    ‘Oklahoma’,\n",
    "    ‘Oklahoma State’,\n",
    "    ‘Texas’,\n",
    "    ‘Texas Tech’,\n",
    "    ‘Baylor’,\n",
    "    ‘Iowa State’,\n",
    "    ‘Kansas’,\n",
    "    ‘Kansas State’,\n",
    "    ‘West Virginia’,\n",
    "    ‘TCU’,\n",
    "    ‘Ohio State’,\n",
    "    ‘Penn State’,\n",
    "    ‘Michigan’,\n",
    "    ‘Michigan State’,\n",
    "    ‘Nebraska’,\n",
    "    ‘Iowa’,\n",
    "    ‘Wisconsin’,\n",
    "    ‘Illinois’,\n",
    "    ‘Indiana’,\n",
    "    ‘Northwestern’,\n",
    "    ‘Purdue’,\n",
    "    ‘Rutgers’,\n",
    "    ‘Maryland’,\n",
    "    ‘Minnesota’,\n",
    "    ‘Alabama’,\n",
    "    ‘Texas A&M’,\n",
    "    ‘Auburn’,\n",
    "    ‘LSU’,\n",
    "    ‘Arkansas’,\n",
    "    ‘Mississippi’,\n",
    "    ‘Mississippi State’,\n",
    "    ‘Georgia’,\n",
    "    ‘Florida’,\n",
    "    ‘Missouri’,\n",
    "    ‘South Carolina’,\n",
    "    ‘Tennessee’,\n",
    "    ‘Kentucky’,\n",
    "    ‘Vanderbuilt’,\n",
    "    ‘Notre Dame’,\n",
    "    ‘Clemson’,\n",
    "    ‘Miami’,\n",
    "    ‘North Carolina’,\n",
    "    ‘North Carolina State’,\n",
    "    ‘Virginia Tech’,\n",
    "    ‘Wake Forest’,\n",
    "    ‘Boston College’,\n",
    "    ‘Pittsburgh’,\n",
    "    ‘Georgia Tech’,\n",
    "    ‘Virginia’,\n",
    "    ‘Florida State’,\n",
    "    ‘Louisville’,\n",
    "    ‘Syracuse’,\n",
    "    ‘Arizona’,\n",
    "    ‘Arizona State’,\n",
    "    ‘Colorado’,\n",
    "    ‘Utah’,\n",
    "    ‘USC’,\n",
    "    ‘UCLA’,\n",
    "    ‘California’,\n",
    "    ‘Oregon’,\n",
    "    ‘Oregon State’,\n",
    "    ‘Washington’,\n",
    "    ‘Washington State’,\n",
    "    ‘Standford’]\n",
    "dist_key = st.selectbox(‘Which college football team or conference to analyze...’,keys)\n",
    "st.write(‘You have chosen {}’.format(dist_key))"
   ]
  }
 ],
 "metadata": {
  "kernelspec": {
   "name": "Python 3.7.7 64-bit ('3.7.7')",
   "display_name": "Python 3.7.7 64-bit ('3.7.7')",
   "metadata": {
    "interpreter": {
     "hash": "0b458113f3f6703463d186e5cbd43b650ad2aca118c4e09fded4adf7a74c16a9"
    }
   }
  },
  "language_info": {
   "codemirror_mode": {
    "name": "ipython",
    "version": 3
   },
   "file_extension": ".py",
   "mimetype": "text/x-python",
   "name": "python",
   "nbconvert_exporter": "python",
   "pygments_lexer": "ipython3",
   "version": "3.7.7-final"
  }
 },
 "nbformat": 4,
 "nbformat_minor": 4
}