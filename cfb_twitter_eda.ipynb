{
 "cells": [
  {
   "cell_type": "markdown",
   "metadata": {},
   "source": [
    "# Exploratory Data Analysis"
   ]
  },
  {
   "cell_type": "markdown",
   "metadata": {},
   "source": [
    "## Problem Definition"
   ]
  },
  {
   "cell_type": "code",
   "execution_count": 24,
   "metadata": {},
   "outputs": [],
   "source": [
    "# With college football games take place across the country, people often take to social media to express their opinions on the universities they are fans of. This analysis will take a deeper dive into the twitter usage of fans of schools in the \"Power 5\" College Football Conferences and the fans of the respective schools, including, the SEC, Big12, Big10, ACC, and Pac12. This analysis will specifically look into which fans tweet the most about the different schools from the \"Power 5\" Conferences and the nature of their commentary (postive vs. negative, etc.)\n",
    "\n",
    "# With the return of Big10 to the weekly college football slate, basically all major college football teams were in action this past week (10/22-10/29) - because no one really misses the Pac12. "
   ]
  },
  {
   "cell_type": "code",
   "execution_count": null,
   "metadata": {},
   "outputs": [],
   "source": [
    "# Sentiment analysis of last X tweets broken down by \"Power 5\" college football teams and conference"
   ]
  },
  {
   "source": [
    "# import necessary packages\n",
    "\n",
    "import pandas as pd \n",
    "import numpy as np \n",
    "import time\n",
    "import matplotlib.pyplot as plt \n",
    "import seaborn as sns\n",
    "%matplotlib inline"
   ],
   "cell_type": "code",
   "metadata": {},
   "execution_count": 25,
   "outputs": []
  },
  {
   "cell_type": "markdown",
   "metadata": {},
   "source": [
    "## Discovery"
   ]
  },
  {
   "cell_type": "markdown",
   "metadata": {},
   "source": [
    "### Data Collection \n",
    "#### Webscraping Twitter "
   ]
  },
  {
   "cell_type": "code",
   "execution_count": 26,
   "metadata": {},
   "outputs": [],
   "source": [
    "import tweepy"
   ]
  },
  {
   "cell_type": "code",
   "execution_count": 27,
   "metadata": {},
   "outputs": [],
   "source": [
    "# Authorize Twitter API credentials\n",
    "consumer_key = \"Dz3jCSrcwHVeXUs4XZmHh4DCq\"\n",
    "consumer_secret = \"u3mQXCEoeVAkPEdgbgm2vOYHSQ5XE06SOs9pRgoAgELHuUPVm5\"\n",
    "access_token = \"334717127-4E6jTE3hXB9LsiPxiQs1weCY87gVknixyh8saGOL\"\n",
    "access_token_secret = \"V9573dxXw7eODm7d5c0wr85eGgLJulG9ThUwgpFXVFGDg\"\n",
    "auth = tweepy.OAuthHandler(consumer_key, consumer_secret)\n",
    "auth.set_access_token(access_token, access_token_secret)\n",
    "api = tweepy.API(auth,wait_on_rate_limit=True)"
   ]
  },
  {
   "cell_type": "code",
   "execution_count": 28,
   "metadata": {},
   "outputs": [],
   "source": [
    "text_query = 'Iowa State Cyclone football'\n",
    "count = 150\n",
    "\n",
    "def text_query_to_csv(text_query, count):\n",
    "    try:\n",
    "# Creation of query method using parameters\n",
    "        tweets = tweepy.Cursor(api.search,q=text_query).items(count)\n",
    " \n",
    " # Pulling information from tweets iterable object\n",
    "        tweets_list = [[tweet.created_at, tweet.id, tweet.text, tweet.user, tweet.favorite_count] for             tweet in tweets]\n",
    "\n",
    "# Creation of dataframe from tweets list\n",
    " # Add or remove columns as you remove tweet information\n",
    "        tweets_df = pd.DataFrame(tweets_list)\n",
    " \n",
    "    except BaseException as e:\n",
    "        print('failed on_status,',str(e))\n",
    "        time.sleep(3)\n"
   ]
  },
  {
   "cell_type": "markdown",
   "metadata": {},
   "source": [
    "### Load the Data"
   ]
  },
  {
   "cell_type": "code",
   "execution_count": 29,
   "metadata": {},
   "outputs": [],
   "source": [
    "# Input search query to scrape tweets and name csv file\n",
    "# Max recent tweets pulls x amount of most recent tweets from that user\n",
    "text_query = 'Iowa State football'\n",
    "count = 150\n",
    "\n",
    "# Calling function to query 150 amount of relevant tweets and create a CSV file\n",
    "text_query_to_csv(text_query, count)"
   ]
  },
  {
   "cell_type": "markdown",
   "metadata": {},
   "source": [
    "### Examine the Data"
   ]
  },
  {
   "cell_type": "code",
   "execution_count": 30,
   "metadata": {},
   "outputs": [
    {
     "output_type": "execute_result",
     "data": {
      "text/plain": [
       "                     0                    1  \\\n",
       "0  2020-11-02 13:05:00  1323249752079826944   \n",
       "1  2020-11-02 13:00:24  1323248594279895041   \n",
       "2  2020-11-02 12:17:03  1323237687491497984   \n",
       "3  2020-11-02 12:07:32  1323235292330024972   \n",
       "4  2020-11-02 10:29:10  1323210534586474499   \n",
       "5  2020-11-02 09:40:31  1323198292486967297   \n",
       "6  2020-11-02 05:21:24  1323133082371850242   \n",
       "7  2020-11-02 04:26:40  1323119308180844545   \n",
       "8  2020-11-02 03:16:59  1323101772710371328   \n",
       "9  2020-11-02 03:09:02  1323099774049013762   \n",
       "10 2020-11-02 03:08:54  1323099740528091136   \n",
       "11 2020-11-02 03:05:01  1323098763930599425   \n",
       "12 2020-11-02 03:05:01  1323098763049734144   \n",
       "13 2020-11-02 03:00:51  1323097711395119109   \n",
       "14 2020-11-02 02:56:51  1323096706196660224   \n",
       "15 2020-11-02 02:52:19  1323095565123596291   \n",
       "16 2020-11-02 02:51:50  1323095442582917120   \n",
       "17 2020-11-02 02:49:01  1323094734756347906   \n",
       "18 2020-11-02 02:32:00  1323090453630226433   \n",
       "19 2020-11-02 02:08:05  1323084433809940480   \n",
       "\n",
       "                                                    2  \n",
       "0   No unbeaten teams remain in the latest 10of12 ...  \n",
       "1   Linebacker Play in the 33 Stack Defense from I...  \n",
       "2   Can Iowa State football begin peaking in Novem...  \n",
       "3   Michigan State football's next task: Avoiding ...  \n",
       "4   RT @ChipBrown247: Here's a history lesson from...  \n",
       "5   Otras predicciones para las Bowls esta vez en ...  \n",
       "6   RT @joepkipp: Some exciting news. I've taken o...  \n",
       "7   RT @joepkipp: Some exciting news. I've taken o...  \n",
       "8   RT @joepkipp: Some exciting news. I've taken o...  \n",
       "9   RT @d2mart: COLLEGE FOOTBALL: Iowa State is ra...  \n",
       "10  RT @joepkipp: Some exciting news. I've taken o...  \n",
       "11  COLLEGE FOOTBALL: Iowa State is ranked No. 17 ...  \n",
       "12  COLLEGE FOOTBALL: Iowa State is ranked No. 17 ...  \n",
       "13  Some exciting news. I've taken over as the man...  \n",
       "14  RT @AP_Top25: Iowa receiver Ihmir Smith-Marset...  \n",
       "15  RT @AP_Top25: Iowa receiver Ihmir Smith-Marset...  \n",
       "16  RT @AP_Top25: Iowa receiver Ihmir Smith-Marset...  \n",
       "17  Iowa receiver Ihmir Smith-Marsette arrested on...  \n",
       "18  RT @MurphyKeith: Dan Barrett has been to 495 o...  \n",
       "19  Now, after beating Kansas handily 52-22, Iowa ...  "
      ],
      "text/html": "<div>\n<style scoped>\n    .dataframe tbody tr th:only-of-type {\n        vertical-align: middle;\n    }\n\n    .dataframe tbody tr th {\n        vertical-align: top;\n    }\n\n    .dataframe thead th {\n        text-align: right;\n    }\n</style>\n<table border=\"1\" class=\"dataframe\">\n  <thead>\n    <tr style=\"text-align: right;\">\n      <th></th>\n      <th>0</th>\n      <th>1</th>\n      <th>2</th>\n    </tr>\n  </thead>\n  <tbody>\n    <tr>\n      <th>0</th>\n      <td>2020-11-02 13:05:00</td>\n      <td>1323249752079826944</td>\n      <td>No unbeaten teams remain in the latest 10of12 ...</td>\n    </tr>\n    <tr>\n      <th>1</th>\n      <td>2020-11-02 13:00:24</td>\n      <td>1323248594279895041</td>\n      <td>Linebacker Play in the 33 Stack Defense from I...</td>\n    </tr>\n    <tr>\n      <th>2</th>\n      <td>2020-11-02 12:17:03</td>\n      <td>1323237687491497984</td>\n      <td>Can Iowa State football begin peaking in Novem...</td>\n    </tr>\n    <tr>\n      <th>3</th>\n      <td>2020-11-02 12:07:32</td>\n      <td>1323235292330024972</td>\n      <td>Michigan State football's next task: Avoiding ...</td>\n    </tr>\n    <tr>\n      <th>4</th>\n      <td>2020-11-02 10:29:10</td>\n      <td>1323210534586474499</td>\n      <td>RT @ChipBrown247: Here's a history lesson from...</td>\n    </tr>\n    <tr>\n      <th>5</th>\n      <td>2020-11-02 09:40:31</td>\n      <td>1323198292486967297</td>\n      <td>Otras predicciones para las Bowls esta vez en ...</td>\n    </tr>\n    <tr>\n      <th>6</th>\n      <td>2020-11-02 05:21:24</td>\n      <td>1323133082371850242</td>\n      <td>RT @joepkipp: Some exciting news. I've taken o...</td>\n    </tr>\n    <tr>\n      <th>7</th>\n      <td>2020-11-02 04:26:40</td>\n      <td>1323119308180844545</td>\n      <td>RT @joepkipp: Some exciting news. I've taken o...</td>\n    </tr>\n    <tr>\n      <th>8</th>\n      <td>2020-11-02 03:16:59</td>\n      <td>1323101772710371328</td>\n      <td>RT @joepkipp: Some exciting news. I've taken o...</td>\n    </tr>\n    <tr>\n      <th>9</th>\n      <td>2020-11-02 03:09:02</td>\n      <td>1323099774049013762</td>\n      <td>RT @d2mart: COLLEGE FOOTBALL: Iowa State is ra...</td>\n    </tr>\n    <tr>\n      <th>10</th>\n      <td>2020-11-02 03:08:54</td>\n      <td>1323099740528091136</td>\n      <td>RT @joepkipp: Some exciting news. I've taken o...</td>\n    </tr>\n    <tr>\n      <th>11</th>\n      <td>2020-11-02 03:05:01</td>\n      <td>1323098763930599425</td>\n      <td>COLLEGE FOOTBALL: Iowa State is ranked No. 17 ...</td>\n    </tr>\n    <tr>\n      <th>12</th>\n      <td>2020-11-02 03:05:01</td>\n      <td>1323098763049734144</td>\n      <td>COLLEGE FOOTBALL: Iowa State is ranked No. 17 ...</td>\n    </tr>\n    <tr>\n      <th>13</th>\n      <td>2020-11-02 03:00:51</td>\n      <td>1323097711395119109</td>\n      <td>Some exciting news. I've taken over as the man...</td>\n    </tr>\n    <tr>\n      <th>14</th>\n      <td>2020-11-02 02:56:51</td>\n      <td>1323096706196660224</td>\n      <td>RT @AP_Top25: Iowa receiver Ihmir Smith-Marset...</td>\n    </tr>\n    <tr>\n      <th>15</th>\n      <td>2020-11-02 02:52:19</td>\n      <td>1323095565123596291</td>\n      <td>RT @AP_Top25: Iowa receiver Ihmir Smith-Marset...</td>\n    </tr>\n    <tr>\n      <th>16</th>\n      <td>2020-11-02 02:51:50</td>\n      <td>1323095442582917120</td>\n      <td>RT @AP_Top25: Iowa receiver Ihmir Smith-Marset...</td>\n    </tr>\n    <tr>\n      <th>17</th>\n      <td>2020-11-02 02:49:01</td>\n      <td>1323094734756347906</td>\n      <td>Iowa receiver Ihmir Smith-Marsette arrested on...</td>\n    </tr>\n    <tr>\n      <th>18</th>\n      <td>2020-11-02 02:32:00</td>\n      <td>1323090453630226433</td>\n      <td>RT @MurphyKeith: Dan Barrett has been to 495 o...</td>\n    </tr>\n    <tr>\n      <th>19</th>\n      <td>2020-11-02 02:08:05</td>\n      <td>1323084433809940480</td>\n      <td>Now, after beating Kansas handily 52-22, Iowa ...</td>\n    </tr>\n  </tbody>\n</table>\n</div>"
     },
     "metadata": {},
     "execution_count": 30
    }
   ],
   "source": [
    "tweets_df.head(20)"
   ]
  },
  {
   "cell_type": "code",
   "execution_count": 31,
   "metadata": {},
   "outputs": [
    {
     "output_type": "stream",
     "name": "stdout",
     "text": [
      "<class 'pandas.core.frame.DataFrame'>\nRangeIndex: 150 entries, 0 to 149\nData columns (total 3 columns):\n #   Column  Non-Null Count  Dtype         \n---  ------  --------------  -----         \n 0   0       150 non-null    datetime64[ns]\n 1   1       150 non-null    int64         \n 2   2       150 non-null    object        \ndtypes: datetime64[ns](1), int64(1), object(1)\nmemory usage: 3.6+ KB\n"
     ]
    }
   ],
   "source": [
    "tweets_df.info()"
   ]
  },
  {
   "cell_type": "code",
   "execution_count": 33,
   "metadata": {},
   "outputs": [
    {
     "output_type": "stream",
     "name": "stdout",
     "text": [
      "None\n"
     ]
    }
   ],
   "source": [
    "iowa_state_df = tweets_df.rename(columns = {'0': 'time', '1': 'tweet_id', '2': 'content'}, index={}, inplace=True)\n",
    "print(iowa_state_df)"
   ]
  },
  {
   "cell_type": "markdown",
   "metadata": {},
   "source": [
    "### EDA"
   ]
  },
  {
   "cell_type": "markdown",
   "metadata": {},
   "source": [
    "### Data visualization"
   ]
  },
  {
   "cell_type": "markdown",
   "metadata": {},
   "source": [
    "## Develop"
   ]
  },
  {
   "cell_type": "markdown",
   "metadata": {},
   "source": [
    "### Feature Engineering"
   ]
  },
  {
   "cell_type": "markdown",
   "metadata": {},
   "source": [
    "### Create & Test Model(s) - ?"
   ]
  },
  {
   "cell_type": "markdown",
   "metadata": {},
   "source": [
    "## Deploy"
   ]
  },
  {
   "cell_type": "code",
   "execution_count": null,
   "metadata": {},
   "outputs": [],
   "source": []
  }
 ],
 "metadata": {
  "kernelspec": {
   "name": "Python 3.7.7 64-bit ('3.7.7')",
   "display_name": "Python 3.7.7 64-bit ('3.7.7')",
   "metadata": {
    "interpreter": {
     "hash": "0b458113f3f6703463d186e5cbd43b650ad2aca118c4e09fded4adf7a74c16a9"
    }
   }
  },
  "language_info": {
   "codemirror_mode": {
    "name": "ipython",
    "version": 3
   },
   "file_extension": ".py",
   "mimetype": "text/x-python",
   "name": "python",
   "nbconvert_exporter": "python",
   "pygments_lexer": "ipython3",
   "version": "3.7.7-final"
  }
 },
 "nbformat": 4,
 "nbformat_minor": 4
}