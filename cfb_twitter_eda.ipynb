{
 "cells": [
  {
   "cell_type": "markdown",
   "metadata": {},
   "source": [
    "# Exploratory Data Analysis"
   ]
  },
  {
   "cell_type": "markdown",
   "metadata": {},
   "source": [
    "## Problem Definition"
   ]
  },
  {
   "cell_type": "code",
   "execution_count": 1,
   "metadata": {},
   "outputs": [],
   "source": [
    "# With college football games take place across the country, people often take to social media to express their opinions on the universities they are fans of. This analysis will take a deeper dive into the twitter usage of fans of schools in the \"Power 5\" College Football Conferences and the fans of the respective schools, including, the SEC, Big12, Big10, ACC, and Pac12. This analysis will specifically look into which fans tweet the most about the different schools from the \"Power 5\" Conferences and the nature of their commentary (postive vs. negative, etc.)\n",
    "\n",
    "# With the return of Big10 to the weekly college football slate, basically all major college football teams were in action this past week (10/22-10/29) - because no one really misses the Pac12. "
   ]
  },
  {
   "cell_type": "code",
   "execution_count": 2,
   "metadata": {},
   "outputs": [],
   "source": [
    "# Sentiment analysis of last X tweets broken down by \"Power 5\" college football teams and conference"
   ]
  },
  {
   "source": [
    "# import necessary packages\n",
    "\n",
    "import pandas as pd \n",
    "import numpy as np \n",
    "import time\n",
    "import matplotlib.pyplot as plt \n",
    "import seaborn as sns\n",
    "%matplotlib inline"
   ],
   "cell_type": "code",
   "metadata": {},
   "execution_count": 1,
   "outputs": []
  },
  {
   "cell_type": "code",
   "execution_count": 2,
   "metadata": {},
   "outputs": [],
   "source": [
    "from django import forms"
   ]
  },
  {
   "cell_type": "markdown",
   "metadata": {},
   "source": [
    "## Discovery"
   ]
  },
  {
   "cell_type": "markdown",
   "metadata": {},
   "source": [
    "### Data Collection \n",
    "#### Webscraping Twitter "
   ]
  },
  {
   "cell_type": "code",
   "execution_count": 3,
   "metadata": {},
   "outputs": [],
   "source": [
    "import tweepy\n",
    "from tweepy import OAuthHandler"
   ]
  },
  {
   "cell_type": "code",
   "execution_count": 4,
   "metadata": {},
   "outputs": [],
   "source": [
    "# Authorize Twitter API credentials\n",
    "consumer_key = \"Dz3jCSrcwHVeXUs4XZmHh4DCq\"\n",
    "consumer_secret = \"u3mQXCEoeVAkPEdgbgm2vOYHSQ5XE06SOs9pRgoAgELHuUPVm5\"\n",
    "access_token = \"334717127-4E6jTE3hXB9LsiPxiQs1weCY87gVknixyh8saGOL\"\n",
    "access_token_secret = \"V9573dxXw7eODm7d5c0wr85eGgLJulG9ThUwgpFXVFGDg\"\n",
    "\n",
    "auth = tweepy.OAuthHandler(consumer_key, consumer_secret)\n",
    "auth.set_access_token(access_token, access_token_secret)\n",
    "\n",
    "api = tweepy.API(auth,wait_on_rate_limit=True)"
   ]
  },
  {
   "cell_type": "code",
   "execution_count": 5,
   "metadata": {},
   "outputs": [
    {
     "output_type": "execute_result",
     "data": {
      "text/plain": [
       "Ellipsis"
      ]
     },
     "metadata": {},
     "execution_count": 5
    }
   ],
   "source": [
    "... \n",
    "\n",
    "# pick_team_query = ('X football')\n",
    "# count = 150\n",
    "\n",
    "# try:\n",
    "#     # Create of query method using parameters\n",
    "#     tweets = tweepy.Cursor(api.search,q=pick_team_query).items(count)\n",
    "\n",
    "#     # Pulling info from tweets iterable object\n",
    "#     tweets_list = [[tweet.created_at, tweet.id, tweet.text] for tweet in tweets]\n",
    "\n",
    "#     # Creating datafram from tweets list\n",
    "#     # Add/remove columns as you remove tweet info\n",
    "#     cfb_df = pd.DataFrame(tweets_list)\n",
    "\n",
    "# except BaseException as e:\n",
    "#     print('failed on_status,',str(e))\n",
    "#     time.sleep(3)\n",
    "\n",
    "...    "
   ]
  },
  {
   "cell_type": "code",
   "execution_count": 6,
   "metadata": {},
   "outputs": [],
   "source": [
    "text_query = 'Iowa State Cyclones football'\n",
    "count = 150\n",
    "try:\n",
    " # Creation of query method using parameters\n",
    " tweets = tweepy.Cursor(api.search,q=text_query).items(count)\n",
    " \n",
    " # Pulling information from tweets iterable object\n",
    " tweets_list = [[tweet.created_at, tweet.id, tweet.text] for tweet in tweets]\n",
    " \n",
    " # Creation of dataframe from tweets list\n",
    " # Add or remove columns as you remove tweet information\n",
    " iowa_state_df = pd.DataFrame(tweets_list)\n",
    " \n",
    "except BaseException as e:\n",
    "    print('failed on_status,',str(e))\n",
    "    time.sleep(3)"
   ]
  },
  {
   "cell_type": "code",
   "execution_count": 25,
   "metadata": {},
   "outputs": [],
   "source": [
    "tweets = tweepy.Cursor(api.search, q=text_query).items(count)\n",
    "# Pulling information from tweets iterable \n",
    "tweets_list = [[tweet.created_at, tweet.text, tweet.user, tweet.favorite_count, tweet.retweet_count, tweet.coordinates] for tweet in tweets]\n",
    "\n",
    "# Creation of dataframe from tweets list\n",
    "iowa_state_df = pd.DataFrame(tweets_list)\n",
    "\n",
    "#rename clolumns\n",
    "iowa_state_df.columns=[\"time\", \"text\", \"user\", \"favorites\", \"retweets\", \"coordinates\"]\n"
   ]
  },
  {
   "cell_type": "code",
   "execution_count": 10,
   "metadata": {},
   "outputs": [],
   "source": [
    "# # Minnesota Football trial\n",
    "\n",
    "# minnesota_query = 'Minnesota Gophers football'\n",
    "# count = 150\n",
    "# try:\n",
    "#  # Creation of query method using parameters\n",
    "#  tweets = tweepy.Cursor(api.search,q=minnesota_query).items(count)\n",
    " \n",
    "#  # Pulling information from tweets iterable object\n",
    "#  tweets_list = [[tweet.created_at, tweet.id, tweet.text] for tweet in tweets]\n",
    " \n",
    "#  # Creation of dataframe from tweets list\n",
    "#  # Add or remove columns as you remove tweet information\n",
    "#  minnesota_df = pd.DataFrame(tweets_list)\n",
    " \n",
    "# except BaseException as e:\n",
    "#     print('failed on_status,',str(e))\n",
    "#     time.sleep(3)"
   ]
  },
  {
   "cell_type": "code",
   "execution_count": 11,
   "metadata": {},
   "outputs": [],
   "source": [
    "# tweets = tweepy.Cursor(api.search, q=minnesota_query).items(count)\n",
    "# # Pulling information from tweets iterable \n",
    "# tweets_list = [[tweet.created_at, tweet.id, tweet.text, tweet.user, tweet.favorite_count] for tweet in tweets]\n",
    "# # Creation of dataframe from tweets list\n",
    "# minnesota_df = pd.DataFrame(tweets_list)"
   ]
  },
  {
   "cell_type": "markdown",
   "metadata": {},
   "source": [
    "### Load the Data"
   ]
  },
  {
   "cell_type": "markdown",
   "metadata": {},
   "source": [
    "### Examine the Data"
   ]
  },
  {
   "cell_type": "code",
   "execution_count": 20,
   "metadata": {},
   "outputs": [
    {
     "output_type": "stream",
     "name": "stdout",
     "text": [
      "These are the most recent tweets about Iowa State football...\n"
     ]
    }
   ],
   "source": [
    "print('These are the most recent tweets about Iowa State football...')"
   ]
  },
  {
   "cell_type": "code",
   "execution_count": 21,
   "metadata": {},
   "outputs": [
    {
     "output_type": "execute_result",
     "data": {
      "text/plain": [
       "                  time                                               text  \\\n",
       "0  2020-11-24 22:30:00  It's FREE VIP DAY at @247Sports and we've lift...   \n",
       "1  2020-11-24 22:24:27  RT @ericolson64: #Cyclones are savoring what c...   \n",
       "2  2020-11-24 22:24:03  #Cyclones are savoring what could turn out to ...   \n",
       "3  2020-11-24 21:59:59  RT @MSwain247: On resting players, cold tubs a...   \n",
       "4  2020-11-24 21:47:32  RT @MSwain247: On resting players, cold tubs a...   \n",
       "5  2020-11-24 21:46:23  On resting players, cold tubs and walk-through...   \n",
       "6  2020-11-24 21:08:16  RT @InsideTexas: \"Iowa State head coach Matt C...   \n",
       "7  2020-11-24 21:00:33  RT @CycloneAlert247: A Thanksgiving week speci...   \n",
       "8  2020-11-24 21:00:00  A Thanksgiving week special: All VIP content o...   \n",
       "9  2020-11-24 20:13:44  RT @InsideTexas: \"Iowa State head coach Matt C...   \n",
       "10 2020-11-24 19:56:29  Last week’s cancellation gave the Longhorns ti...   \n",
       "11 2020-11-24 19:56:05  Oh man, right when Iowa State finally has a de...   \n",
       "12 2020-11-24 19:35:03  RT @ChrisVannini: The sanctity of the regular ...   \n",
       "13 2020-11-24 19:00:00  It's FREE VIP DAY at @247Sports and we've lift...   \n",
       "14 2020-11-24 18:42:02  RT @WideRtNattyLt: This Week in GIFs: Cyclones...   \n",
       "15 2020-11-24 18:00:01  It's FREE VIP DAY at @247Sports and we've lift...   \n",
       "16 2020-11-24 17:41:54  RT @PicksParlays: Texas Longhorns vs Iowa Stat...   \n",
       "17 2020-11-24 17:38:57  This is an old article from 2019. I just love ...   \n",
       "18 2020-11-24 16:48:31  This Week in GIFs: Cyclones Obliterate Kansas ...   \n",
       "19 2020-11-24 16:42:31  RT @MSwain247: It's FREE VIP DAY at @247Sports...   \n",
       "\n",
       "                                                 user  favorites  retweets  \\\n",
       "0   User(_api=<tweepy.api.API object at 0x15c2edc5...          0         0   \n",
       "1   User(_api=<tweepy.api.API object at 0x15c2edc5...          0         1   \n",
       "2   User(_api=<tweepy.api.API object at 0x15c2edc5...          0         1   \n",
       "3   User(_api=<tweepy.api.API object at 0x15c2edc5...          0         2   \n",
       "4   User(_api=<tweepy.api.API object at 0x15c2edc5...          0         2   \n",
       "5   User(_api=<tweepy.api.API object at 0x15c2edc5...          5         2   \n",
       "6   User(_api=<tweepy.api.API object at 0x15c2edc5...          0         6   \n",
       "7   User(_api=<tweepy.api.API object at 0x15c2edc5...          0         1   \n",
       "8   User(_api=<tweepy.api.API object at 0x15c2edc5...          2         1   \n",
       "9   User(_api=<tweepy.api.API object at 0x15c2edc5...          0         6   \n",
       "10  User(_api=<tweepy.api.API object at 0x15c2edc5...          0         0   \n",
       "11  User(_api=<tweepy.api.API object at 0x15c2edc5...          0         0   \n",
       "12  User(_api=<tweepy.api.API object at 0x15c2edc5...          0        18   \n",
       "13  User(_api=<tweepy.api.API object at 0x15c2edc5...          0         0   \n",
       "14  User(_api=<tweepy.api.API object at 0x15c2edc5...          0         1   \n",
       "15  User(_api=<tweepy.api.API object at 0x15c2edc5...          2         0   \n",
       "16  User(_api=<tweepy.api.API object at 0x15c2edc5...          0         1   \n",
       "17  User(_api=<tweepy.api.API object at 0x15c2edc5...          0         0   \n",
       "18  User(_api=<tweepy.api.API object at 0x15c2edc5...         19         1   \n",
       "19  User(_api=<tweepy.api.API object at 0x15c2edc5...          0         2   \n",
       "\n",
       "   location  \n",
       "0      None  \n",
       "1      None  \n",
       "2      None  \n",
       "3      None  \n",
       "4      None  \n",
       "5      None  \n",
       "6      None  \n",
       "7      None  \n",
       "8      None  \n",
       "9      None  \n",
       "10     None  \n",
       "11     None  \n",
       "12     None  \n",
       "13     None  \n",
       "14     None  \n",
       "15     None  \n",
       "16     None  \n",
       "17     None  \n",
       "18     None  \n",
       "19     None  "
      ],
      "text/html": "<div>\n<style scoped>\n    .dataframe tbody tr th:only-of-type {\n        vertical-align: middle;\n    }\n\n    .dataframe tbody tr th {\n        vertical-align: top;\n    }\n\n    .dataframe thead th {\n        text-align: right;\n    }\n</style>\n<table border=\"1\" class=\"dataframe\">\n  <thead>\n    <tr style=\"text-align: right;\">\n      <th></th>\n      <th>time</th>\n      <th>text</th>\n      <th>user</th>\n      <th>favorites</th>\n      <th>retweets</th>\n      <th>location</th>\n    </tr>\n  </thead>\n  <tbody>\n    <tr>\n      <th>0</th>\n      <td>2020-11-24 22:30:00</td>\n      <td>It's FREE VIP DAY at @247Sports and we've lift...</td>\n      <td>User(_api=&lt;tweepy.api.API object at 0x15c2edc5...</td>\n      <td>0</td>\n      <td>0</td>\n      <td>None</td>\n    </tr>\n    <tr>\n      <th>1</th>\n      <td>2020-11-24 22:24:27</td>\n      <td>RT @ericolson64: #Cyclones are savoring what c...</td>\n      <td>User(_api=&lt;tweepy.api.API object at 0x15c2edc5...</td>\n      <td>0</td>\n      <td>1</td>\n      <td>None</td>\n    </tr>\n    <tr>\n      <th>2</th>\n      <td>2020-11-24 22:24:03</td>\n      <td>#Cyclones are savoring what could turn out to ...</td>\n      <td>User(_api=&lt;tweepy.api.API object at 0x15c2edc5...</td>\n      <td>0</td>\n      <td>1</td>\n      <td>None</td>\n    </tr>\n    <tr>\n      <th>3</th>\n      <td>2020-11-24 21:59:59</td>\n      <td>RT @MSwain247: On resting players, cold tubs a...</td>\n      <td>User(_api=&lt;tweepy.api.API object at 0x15c2edc5...</td>\n      <td>0</td>\n      <td>2</td>\n      <td>None</td>\n    </tr>\n    <tr>\n      <th>4</th>\n      <td>2020-11-24 21:47:32</td>\n      <td>RT @MSwain247: On resting players, cold tubs a...</td>\n      <td>User(_api=&lt;tweepy.api.API object at 0x15c2edc5...</td>\n      <td>0</td>\n      <td>2</td>\n      <td>None</td>\n    </tr>\n    <tr>\n      <th>5</th>\n      <td>2020-11-24 21:46:23</td>\n      <td>On resting players, cold tubs and walk-through...</td>\n      <td>User(_api=&lt;tweepy.api.API object at 0x15c2edc5...</td>\n      <td>5</td>\n      <td>2</td>\n      <td>None</td>\n    </tr>\n    <tr>\n      <th>6</th>\n      <td>2020-11-24 21:08:16</td>\n      <td>RT @InsideTexas: \"Iowa State head coach Matt C...</td>\n      <td>User(_api=&lt;tweepy.api.API object at 0x15c2edc5...</td>\n      <td>0</td>\n      <td>6</td>\n      <td>None</td>\n    </tr>\n    <tr>\n      <th>7</th>\n      <td>2020-11-24 21:00:33</td>\n      <td>RT @CycloneAlert247: A Thanksgiving week speci...</td>\n      <td>User(_api=&lt;tweepy.api.API object at 0x15c2edc5...</td>\n      <td>0</td>\n      <td>1</td>\n      <td>None</td>\n    </tr>\n    <tr>\n      <th>8</th>\n      <td>2020-11-24 21:00:00</td>\n      <td>A Thanksgiving week special: All VIP content o...</td>\n      <td>User(_api=&lt;tweepy.api.API object at 0x15c2edc5...</td>\n      <td>2</td>\n      <td>1</td>\n      <td>None</td>\n    </tr>\n    <tr>\n      <th>9</th>\n      <td>2020-11-24 20:13:44</td>\n      <td>RT @InsideTexas: \"Iowa State head coach Matt C...</td>\n      <td>User(_api=&lt;tweepy.api.API object at 0x15c2edc5...</td>\n      <td>0</td>\n      <td>6</td>\n      <td>None</td>\n    </tr>\n    <tr>\n      <th>10</th>\n      <td>2020-11-24 19:56:29</td>\n      <td>Last week’s cancellation gave the Longhorns ti...</td>\n      <td>User(_api=&lt;tweepy.api.API object at 0x15c2edc5...</td>\n      <td>0</td>\n      <td>0</td>\n      <td>None</td>\n    </tr>\n    <tr>\n      <th>11</th>\n      <td>2020-11-24 19:56:05</td>\n      <td>Oh man, right when Iowa State finally has a de...</td>\n      <td>User(_api=&lt;tweepy.api.API object at 0x15c2edc5...</td>\n      <td>0</td>\n      <td>0</td>\n      <td>None</td>\n    </tr>\n    <tr>\n      <th>12</th>\n      <td>2020-11-24 19:35:03</td>\n      <td>RT @ChrisVannini: The sanctity of the regular ...</td>\n      <td>User(_api=&lt;tweepy.api.API object at 0x15c2edc5...</td>\n      <td>0</td>\n      <td>18</td>\n      <td>None</td>\n    </tr>\n    <tr>\n      <th>13</th>\n      <td>2020-11-24 19:00:00</td>\n      <td>It's FREE VIP DAY at @247Sports and we've lift...</td>\n      <td>User(_api=&lt;tweepy.api.API object at 0x15c2edc5...</td>\n      <td>0</td>\n      <td>0</td>\n      <td>None</td>\n    </tr>\n    <tr>\n      <th>14</th>\n      <td>2020-11-24 18:42:02</td>\n      <td>RT @WideRtNattyLt: This Week in GIFs: Cyclones...</td>\n      <td>User(_api=&lt;tweepy.api.API object at 0x15c2edc5...</td>\n      <td>0</td>\n      <td>1</td>\n      <td>None</td>\n    </tr>\n    <tr>\n      <th>15</th>\n      <td>2020-11-24 18:00:01</td>\n      <td>It's FREE VIP DAY at @247Sports and we've lift...</td>\n      <td>User(_api=&lt;tweepy.api.API object at 0x15c2edc5...</td>\n      <td>2</td>\n      <td>0</td>\n      <td>None</td>\n    </tr>\n    <tr>\n      <th>16</th>\n      <td>2020-11-24 17:41:54</td>\n      <td>RT @PicksParlays: Texas Longhorns vs Iowa Stat...</td>\n      <td>User(_api=&lt;tweepy.api.API object at 0x15c2edc5...</td>\n      <td>0</td>\n      <td>1</td>\n      <td>None</td>\n    </tr>\n    <tr>\n      <th>17</th>\n      <td>2020-11-24 17:38:57</td>\n      <td>This is an old article from 2019. I just love ...</td>\n      <td>User(_api=&lt;tweepy.api.API object at 0x15c2edc5...</td>\n      <td>0</td>\n      <td>0</td>\n      <td>None</td>\n    </tr>\n    <tr>\n      <th>18</th>\n      <td>2020-11-24 16:48:31</td>\n      <td>This Week in GIFs: Cyclones Obliterate Kansas ...</td>\n      <td>User(_api=&lt;tweepy.api.API object at 0x15c2edc5...</td>\n      <td>19</td>\n      <td>1</td>\n      <td>None</td>\n    </tr>\n    <tr>\n      <th>19</th>\n      <td>2020-11-24 16:42:31</td>\n      <td>RT @MSwain247: It's FREE VIP DAY at @247Sports...</td>\n      <td>User(_api=&lt;tweepy.api.API object at 0x15c2edc5...</td>\n      <td>0</td>\n      <td>2</td>\n      <td>None</td>\n    </tr>\n  </tbody>\n</table>\n</div>"
     },
     "metadata": {},
     "execution_count": 21
    }
   ],
   "source": [
    "iowa_state_df.head(20)"
   ]
  },
  {
   "cell_type": "code",
   "execution_count": 22,
   "metadata": {},
   "outputs": [
    {
     "output_type": "stream",
     "name": "stdout",
     "text": [
      "<class 'pandas.core.frame.DataFrame'>\nRangeIndex: 150 entries, 0 to 149\nData columns (total 6 columns):\n #   Column     Non-Null Count  Dtype         \n---  ------     --------------  -----         \n 0   time       150 non-null    datetime64[ns]\n 1   text       150 non-null    object        \n 2   user       150 non-null    object        \n 3   favorites  150 non-null    int64         \n 4   retweets   150 non-null    int64         \n 5   location   0 non-null      object        \ndtypes: datetime64[ns](1), int64(2), object(3)\nmemory usage: 7.2+ KB\n"
     ]
    }
   ],
   "source": [
    "iowa_state_df.info()"
   ]
  },
  {
   "cell_type": "markdown",
   "metadata": {},
   "source": [
    "### EDA"
   ]
  },
  {
   "cell_type": "markdown",
   "metadata": {},
   "source": [
    "### Data visualization"
   ]
  },
  {
   "cell_type": "code",
   "execution_count": 2,
   "metadata": {},
   "outputs": [
    {
     "output_type": "stream",
     "name": "stdout",
     "text": [
      "Iowa State\nOklahoma\nOklahoma State\nTexas\nTexas Tech\nBaylor\nKansas\nKansas State\nWest Virginia\nTCU\n"
     ]
    }
   ],
   "source": [
    "# # for loop to iterate through teams to analyze twitter sentiment analysis\n",
    "# # starting only with big12 teams for simplicity before scaling to Power5\n",
    "\n",
    "# teams = [\"Iowa State\", \n",
    "#         \"Oklahoma\",\n",
    "#         \"Oklahoma State\",\n",
    "#         \"Texas\",\n",
    "#         \"Texas Tech\",\n",
    "#         \"Baylor\",\n",
    "#         \"Kansas\",\n",
    "#         \"Kansas State\",\n",
    "#         \"West Virginia\",\n",
    "#         \"TCU\"]\n",
    "# for x in teams:\n",
    "#     print(x)\n"
   ]
  },
  {
   "cell_type": "markdown",
   "metadata": {},
   "source": [
    "## Develop"
   ]
  },
  {
   "cell_type": "code",
   "execution_count": null,
   "metadata": {},
   "outputs": [],
   "source": [
    "# import streamlit as st\n",
    "# st.title(‘College Football Twitter’)\n",
    "# st.write(‘Pick an Team or Conference’)\n",
    "\n",
    "#  keys = [‘Big12’,\n",
    "#     ’Big10’,\n",
    "#     ‘SEC’,\n",
    "#     ‘ACC’,\n",
    "#     ‘Pac12’,\n",
    "#     ‘Oklahoma’,\n",
    "#     ‘Oklahoma State’,\n",
    "#     ‘Texas’,\n",
    "#     ‘Texas Tech’,\n",
    "#     ‘Baylor’,\n",
    "#     ‘Iowa State’,\n",
    "#     ‘Kansas’,\n",
    "#     ‘Kansas State’,\n",
    "#     ‘West Virginia’,\n",
    "#     ‘TCU’,\n",
    "#     ‘Ohio State’,\n",
    "#     ‘Penn State’,\n",
    "#     ‘Michigan’,\n",
    "#     ‘Michigan State’,\n",
    "#     ‘Nebraska’,\n",
    "#     ‘Iowa’,\n",
    "#     ‘Wisconsin’,\n",
    "#     ‘Illinois’,\n",
    "#     ‘Indiana’,\n",
    "#     ‘Northwestern’,\n",
    "#     ‘Purdue’,\n",
    "#     ‘Rutgers’,\n",
    "#     ‘Maryland’,\n",
    "#     ‘Minnesota’,\n",
    "#     ‘Alabama’,\n",
    "#     ‘Texas A&M’,\n",
    "#     ‘Auburn’,\n",
    "#     ‘LSU’,\n",
    "#     ‘Arkansas’,\n",
    "#     ‘Mississippi’,\n",
    "#     ‘Mississippi State’,\n",
    "#     ‘Georgia’,\n",
    "#     ‘Florida’,\n",
    "#     ‘Missouri’,\n",
    "#     ‘South Carolina’,\n",
    "#     ‘Tennessee’,\n",
    "#     ‘Kentucky’,\n",
    "#     ‘Vanderbuilt’,\n",
    "#     ‘Notre Dame’,\n",
    "#     ‘Clemson’,\n",
    "#     ‘Miami’,\n",
    "#     ‘North Carolina’,\n",
    "#     ‘North Carolina State’,\n",
    "#     ‘Virginia Tech’,\n",
    "#     ‘Wake Forest’,\n",
    "#     ‘Boston College’,\n",
    "#     ‘Pittsburgh’,\n",
    "#     ‘Georgia Tech’,\n",
    "#     ‘Virginia’,\n",
    "#     ‘Florida State’,\n",
    "#     ‘Louisville’,\n",
    "#     ‘Syracuse’,\n",
    "#     ‘Arizona’,\n",
    "#     ‘Arizona State’,\n",
    "#     ‘Colorado’,\n",
    "#     ‘Utah’,\n",
    "#     ‘USC’,\n",
    "#     ‘UCLA’,\n",
    "#     ‘California’,\n",
    "#     ‘Oregon’,\n",
    "#     ‘Oregon State’,\n",
    "#     ‘Washington’,\n",
    "#     ‘Washington State’,\n",
    "#     ‘Standford’]\n",
    "# dist_key = st.selectbox(‘Which college football team or conference to analyze...’,keys)\n",
    "# st.write(‘You have chosen {}’.format(dist_key))"
   ]
  },
  {
   "cell_type": "code",
   "execution_count": 22,
   "metadata": {},
   "outputs": [
    {
     "output_type": "error",
     "ename": "SyntaxError",
     "evalue": "invalid character in identifier (<ipython-input-22-a4e0f319c545>, line 3)",
     "traceback": [
      "\u001b[0;36m  File \u001b[0;32m\"<ipython-input-22-a4e0f319c545>\"\u001b[0;36m, line \u001b[0;32m3\u001b[0m\n\u001b[0;31m    ('Oklahoma State’, 'Oklahoma_State’),\u001b[0m\n\u001b[0m                                      ^\u001b[0m\n\u001b[0;31mSyntaxError\u001b[0m\u001b[0;31m:\u001b[0m invalid character in identifier\n"
     ]
    }
   ],
   "source": [
    "# # Not sure which way is correct to create list of teams ^\n",
    "\n",
    "# team_choice = [\n",
    "#     ('Oklahoma', 'Oklahoma'),\n",
    "#     ('Oklahoma State’, 'Oklahoma State'),\n",
    "#     ('Texas’, 'Texas'),\n",
    "#     (‘Texas Tech’, 'Texas Tech'),\n",
    "#     (‘Baylor’, 'Baylor'),\n",
    "#     (‘Iowa State’, 'Iowa State'),\n",
    "#     (‘Kansas’, 'Kansas'),\n",
    "#     (‘Kansas State’, 'Kansas State'),\n",
    "#     (‘West Virginia’, 'West Virginia'),\n",
    "#     (‘TCU’, 'TCU'),\n",
    "#     (‘Ohio State’, 'Ohio State'),\n",
    "#     (‘Penn State’, 'Penn State'),\n",
    "#     (‘Michigan’, 'Michigan'),\n",
    "#     (‘Michigan State’, 'Michigan State'),\n",
    "#     (‘Nebraska’, 'Nebraska'),\n",
    "#     ('Iowa', 'Iowa'),\n",
    "#     (‘Wisconsin’, 'Wisconsin'),\n",
    "#     (‘Illinois’, 'Illinois'),\n",
    "#     (‘Indiana’, 'Indiana'),\n",
    "#     (‘Northwestern’, 'Northwestern'),\n",
    "#     (‘Purdue’, 'Purdue'),\n",
    "#     (‘Rutgers’, 'Rutgers'),\n",
    "#     (‘Maryland’, 'Maryland'),\n",
    "#     (‘Minnesota’, 'Minnesota'),\n",
    "#     (‘Alabama’, 'Alabama'),\n",
    "#     (‘Texas A&M’, 'Texas A&M'),\n",
    "#     (‘Auburn’, 'Auburn'),\n",
    "#     (‘LSU’, 'LSU'),\n",
    "#     (‘Arkansas’, 'Arkansas'),\n",
    "#     (‘Mississippi’, 'Ole Miss'),\n",
    "#     (‘Mississippi State’, 'Mississippi State'),\n",
    "#     (‘Georgia’, 'Georgia'),\n",
    "#     (‘Florida’, 'Florida'),\n",
    "#     (‘Missouri’, 'Missouri'),\n",
    "#     (‘South Carolina’, 'South Carolina'),\n",
    "#     (‘Tennessee’, 'Tennessee'),\n",
    "#     (‘Kentucky’, 'Kentucky'),\n",
    "#     (‘Vanderbuilt’, 'Vanderbuilt'),\n",
    "#     (‘Notre Dame’, 'Notre Dame'),\n",
    "#     (‘Clemson’, 'Clemson'),\n",
    "#     (‘Miami’, 'Miami'),\n",
    "#     (‘North Carolina’, 'North Carolina'),\n",
    "#     (‘North Carolina State’, 'NC State'),\n",
    "#     (‘Virginia Tech’, 'Virginia Tech'),\n",
    "#     (‘Wake Forest’, 'Wake Forest'),\n",
    "#     (‘Boston College’, 'Boston College'),\n",
    "#     (‘Pittsburgh’, 'Pittsburgh'),\n",
    "#     (‘Georgia Tech’, 'Georgia Tech'),\n",
    "#     (‘Virginia’, 'Virginia'),\n",
    "#     (‘Florida State’, 'Florida State'),\n",
    "#     (‘Louisville’, 'Louisville'),\n",
    "#     (‘Syracuse’, 'Syracuse'),\n",
    "#     (‘Arizona’, 'Arizona'),\n",
    "#     (‘Arizona State’, 'Arizona State'),\n",
    "#     (‘Colorado’, 'Colorado'),\n",
    "#     (‘Utah’, 'Utah'),\n",
    "#     (‘USC’, 'USC'),\n",
    "#     (‘UCLA’, 'UCLA'),\n",
    "#     (‘California’, 'California'),\n",
    "#     (‘Oregon’, 'Oregon'),\n",
    "#     (‘Oregon State’, 'Oregon State'),\n",
    "#     (‘Washington’, 'Washington'),\n",
    "#     (‘Washington State’, 'Washington State'),\n",
    "#     (‘Standford’, 'Standford'),\n",
    "#     ]\n",
    "\n",
    "# class UserForm(forms.Form):\n",
    "#     team=forms.CharField(label='What team do you want to analyze?',\n",
    "#     widget=forms.Select(choices=team_choice))"
   ]
  },
  {
   "cell_type": "markdown",
   "metadata": {},
   "source": [
    "### Feature Engineering"
   ]
  },
  {
   "cell_type": "markdown",
   "metadata": {},
   "source": [
    "### Create & Test Model(s) - ?"
   ]
  },
  {
   "cell_type": "markdown",
   "metadata": {},
   "source": [
    "## Deploy"
   ]
  },
  {
   "cell_type": "code",
   "execution_count": 65,
   "metadata": {},
   "outputs": [
    {
     "output_type": "error",
     "ename": "SyntaxError",
     "evalue": "invalid character in identifier (<ipython-input-65-564c4c07cea7>, line 2)",
     "traceback": [
      "\u001b[0;36m  File \u001b[0;32m\"<ipython-input-65-564c4c07cea7>\"\u001b[0;36m, line \u001b[0;32m2\u001b[0m\n\u001b[0;31m    st.title(‘College Football Twitter’)\u001b[0m\n\u001b[0m                    ^\u001b[0m\n\u001b[0;31mSyntaxError\u001b[0m\u001b[0;31m:\u001b[0m invalid character in identifier\n"
     ]
    }
   ],
   "source": [
    "# import streamlit as st\n",
    "# st.title(‘College Football Twitter’)\n",
    "# st.write(‘Pick an Team or Conference’)\n",
    "# keys = [‘Big12’,\n",
    "#     ’Big10’,\n",
    "#     ‘SEC’,\n",
    "#     ‘ACC’,\n",
    "#     ‘Pac12’,\n",
    "#     ‘Oklahoma’,\n",
    "#     ‘Oklahoma State’,\n",
    "#     ‘Texas’,\n",
    "#     ‘Texas Tech’,\n",
    "#     ‘Baylor’,\n",
    "#     ‘Iowa State’,\n",
    "#     ‘Kansas’,\n",
    "#     ‘Kansas State’,\n",
    "#     ‘West Virginia’,\n",
    "#     ‘TCU’,\n",
    "#     ‘Ohio State’,\n",
    "#     ‘Penn State’,\n",
    "#     ‘Michigan’,\n",
    "#     ‘Michigan State’,\n",
    "#     ‘Nebraska’,\n",
    "#     ‘Iowa’,\n",
    "#     ‘Wisconsin’,\n",
    "#     ‘Illinois’,\n",
    "#     ‘Indiana’,\n",
    "#     ‘Northwestern’,\n",
    "#     ‘Purdue’,\n",
    "#     ‘Rutgers’,\n",
    "#     ‘Maryland’,\n",
    "#     ‘Minnesota’,\n",
    "#     ‘Alabama’,\n",
    "#     ‘Texas A&M’,\n",
    "#     ‘Auburn’,\n",
    "#     ‘LSU’,\n",
    "#     ‘Arkansas’,\n",
    "#     ‘Mississippi’,\n",
    "#     ‘Mississippi State’,\n",
    "#     ‘Georgia’,\n",
    "#     ‘Florida’,\n",
    "#     ‘Missouri’,\n",
    "#     ‘South Carolina’,\n",
    "#     ‘Tennessee’,\n",
    "#     ‘Kentucky’,\n",
    "#     ‘Vanderbuilt’,\n",
    "#     ‘Notre Dame’,\n",
    "#     ‘Clemson’,\n",
    "#     ‘Miami’,\n",
    "#     ‘North Carolina’,\n",
    "#     ‘North Carolina State’,\n",
    "#     ‘Virginia Tech’,\n",
    "#     ‘Wake Forest’,\n",
    "#     ‘Boston College’,\n",
    "#     ‘Pittsburgh’,\n",
    "#     ‘Georgia Tech’,\n",
    "#     ‘Virginia’,\n",
    "#     ‘Florida State’,\n",
    "#     ‘Louisville’,\n",
    "#     ‘Syracuse’,\n",
    "#     ‘Arizona’,\n",
    "#     ‘Arizona State’,\n",
    "#     ‘Colorado’,\n",
    "#     ‘Utah’,\n",
    "#     ‘USC’,\n",
    "#     ‘UCLA’,\n",
    "#     ‘California’,\n",
    "#     ‘Oregon’,\n",
    "#     ‘Oregon State’,\n",
    "#     ‘Washington’,\n",
    "#     ‘Washington State’,\n",
    "#     ‘Standford’]\n",
    "# dist_key = st.selectbox(‘Which college football team or conference to analyze...’,keys)\n",
    "# st.write(‘You have chosen {}’.format(dist_key))"
   ]
  }
 ],
 "metadata": {
  "kernelspec": {
   "name": "python3",
   "display_name": "Python 3.7.7 64-bit ('3.7.7': pyenv)",
   "metadata": {
    "interpreter": {
     "hash": "0b458113f3f6703463d186e5cbd43b650ad2aca118c4e09fded4adf7a74c16a9"
    }
   }
  },
  "language_info": {
   "codemirror_mode": {
    "name": "ipython",
    "version": 3
   },
   "file_extension": ".py",
   "mimetype": "text/x-python",
   "name": "python",
   "nbconvert_exporter": "python",
   "pygments_lexer": "ipython3",
   "version": "3.7.7-final"
  }
 },
 "nbformat": 4,
 "nbformat_minor": 4
}